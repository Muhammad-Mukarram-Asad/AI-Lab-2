{
 "cells": [
  {
   "cell_type": "markdown",
   "id": "737c9481",
   "metadata": {},
   "source": [
    "# Lab: 02\n",
    "# 3 Tasks"
   ]
  },
  {
   "cell_type": "code",
   "execution_count": 1,
   "id": "c5416b5e",
   "metadata": {},
   "outputs": [
    {
     "name": "stdout",
     "output_type": "stream",
     "text": [
      "Enter number for converting it into roman symbols:3000\n",
      "Roman value is: MMM"
     ]
    }
   ],
   "source": [
    "\n",
    "def printRoman(number):\n",
    "    num = [1, 4, 5, 9, 10, 40, 50, 90,\n",
    "        100, 400, 500, 900, 1000]\n",
    "    sym = [\"I\", \"IV\", \"V\", \"IX\", \"X\", \"XL\",\n",
    "        \"L\", \"XC\", \"C\", \"CD\", \"D\", \"CM\", \"M\"]\n",
    "    i = 12\n",
    "      \n",
    "    while number:\n",
    "        div = number // num[i]\n",
    "        number %= num[i]\n",
    "  \n",
    "        while div:\n",
    "            print(sym[i], end = \"\")\n",
    "            div -= 1\n",
    "        i -= 1\n",
    "\n",
    "        \n",
    "Given_number = int(input(\"Enter number for converting it into roman symbols:\"))\n",
    "print(\"Roman value is:\", end = \" \")\n",
    "printRoman(Given_number)\n"
   ]
  },
  {
   "cell_type": "code",
   "execution_count": null,
   "id": "f21acfeb",
   "metadata": {},
   "outputs": [],
   "source": []
  },
  {
   "cell_type": "code",
   "execution_count": null,
   "id": "b40871e7",
   "metadata": {},
   "outputs": [],
   "source": []
  },
  {
   "cell_type": "code",
   "execution_count": 9,
   "id": "7d1bdb23",
   "metadata": {},
   "outputs": [
    {
     "name": "stdout",
     "output_type": "stream",
     "text": [
      "Enter your weight in Kilograms: 70\n",
      " Enter your height in Feet: 5\n",
      " And in  inches: 11\n",
      " The BMI of your's body is = 21.52355028772744\n",
      " You fall in Healthy Weight category.\n"
     ]
    }
   ],
   "source": [
    "# Task:02\n",
    "inp1 = int(input(\"Enter your weight in Kilograms: \"))\n",
    "inp2 = int(input(\" Enter your height in Feet: \"))\n",
    "inp3 = float(input(\" And in  inches: \"))\n",
    "BMI = (inp1 / ((inp2 * 0.3048) + (inp3 * 0.0254) )**2);\n",
    "print(\" The BMI of your's body is =\", BMI)\n",
    "\n",
    "if(BMI < 18.5):\n",
    "    print(\" You fall in Underweight category of healthy BMI. So eat healthy foods as much as possible.\")\n",
    "elif(BMI>= 18.5 and BMI<=24.9):\n",
    "    print(\" You fall in Healthy Weight category.\")\n",
    "elif(BMI>=25 and BMI <= 29.9):\n",
    "    print(\" You fall in overweight category. SO try to eat healthy food and leave all junk items.\")\n",
    "else:\n",
    "    print(\" You fall in Obese category. Much fat, not a good sign for you.\")"
   ]
  },
  {
   "cell_type": "code",
   "execution_count": null,
   "id": "0a237b86",
   "metadata": {},
   "outputs": [],
   "source": []
  },
  {
   "cell_type": "code",
   "execution_count": 1,
   "id": "577eeb2e",
   "metadata": {},
   "outputs": [
    {
     "name": "stdout",
     "output_type": "stream",
     "text": [
      "3 ,  0\n"
     ]
    }
   ],
   "source": [
    "# Task-3\n",
    "def function(dividend, divisor, start, end):\n",
    "    if (start > end) :\n",
    "        return ( 0, dividend );\n",
    " \n",
    "    # Calculate mid\n",
    "    mid = start + (end - start) // 2; # (//)This is used in python for integer division.\n",
    " \n",
    "    remainder = dividend - divisor * mid;\n",
    " \n",
    "    # Check if remainder is greater than divisor\n",
    "    # then increment the mid by 1 in start.\n",
    "    if (remainder > divisor) :\n",
    "        start = mid + 1;\n",
    " \n",
    "    # Check if remainder is less than 0\n",
    "    # then decrement the mid by 1 in end.\n",
    "    elif (remainder <= 0) :\n",
    "        end = mid - 1;\n",
    " \n",
    "    else :\n",
    "        # Check if remainder equals to divisor\n",
    "        if (remainder == divisor) :\n",
    "            mid += 1;\n",
    "            remainder = 0;\n",
    " \n",
    "        # Return the final answer\n",
    "        return ( mid, remainder );\n",
    "     \n",
    "    # Recursive calls\n",
    "    return function(dividend, divisor, start, end);\n",
    " \n",
    "def division(dividend, divisor) :\n",
    " \n",
    "    return function(dividend, divisor, 1, dividend);\n",
    "# Calling a function:\n",
    "result = division(30,10)\n",
    "print(result[0] , \", \" , result[1])\n",
    " "
   ]
  },
  {
   "cell_type": "code",
   "execution_count": null,
   "id": "0321bbff",
   "metadata": {},
   "outputs": [],
   "source": []
  },
  {
   "cell_type": "code",
   "execution_count": null,
   "id": "93ff3ba8",
   "metadata": {},
   "outputs": [],
   "source": []
  }
 ],
 "metadata": {
  "kernelspec": {
   "display_name": "Python 3 (ipykernel)",
   "language": "python",
   "name": "python3"
  },
  "language_info": {
   "codemirror_mode": {
    "name": "ipython",
    "version": 3
   },
   "file_extension": ".py",
   "mimetype": "text/x-python",
   "name": "python",
   "nbconvert_exporter": "python",
   "pygments_lexer": "ipython3",
   "version": "3.9.7"
  }
 },
 "nbformat": 4,
 "nbformat_minor": 5
}
